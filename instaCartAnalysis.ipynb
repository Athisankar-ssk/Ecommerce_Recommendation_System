{
 "cells": [
  {
   "cell_type": "markdown",
   "id": "3b3c1520-47a3-4b4a-b7a3-b6fb28eeb6e5",
   "metadata": {},
   "source": [
    "Step 1: Load the Data into Jupyter Notebook\n",
    "\n",
    "    Run the import and loading cell\n",
    "\n",
    "    Run the .shape check and got similar output\n",
    "\n",
    "Step 2: Preview and Understand the Data\n",
    "\n",
    "    Previewed all 6 datasets using .head()\n",
    "    \n",
    "    Run the null check\n",
    "    \n",
    "    Run the duplicate check"
   ]
  },
  {
   "cell_type": "code",
   "execution_count": 1,
   "id": "2c295d56-e0c1-4c03-894c-40d31ab54ab3",
   "metadata": {
    "scrolled": true
   },
   "outputs": [
    {
     "name": "stdout",
     "output_type": "stream",
     "text": [
      "Requirement already satisfied: opendatasets in c:\\users\\akram\\appdata\\local\\packages\\pythonsoftwarefoundation.python.3.11_qbz5n2kfra8p0\\localcache\\local-packages\\python311\\site-packages (0.1.22)\n",
      "Requirement already satisfied: tqdm in c:\\users\\akram\\appdata\\local\\packages\\pythonsoftwarefoundation.python.3.11_qbz5n2kfra8p0\\localcache\\local-packages\\python311\\site-packages (from opendatasets) (4.67.1)\n",
      "Requirement already satisfied: kaggle in c:\\users\\akram\\appdata\\local\\packages\\pythonsoftwarefoundation.python.3.11_qbz5n2kfra8p0\\localcache\\local-packages\\python311\\site-packages (from opendatasets) (1.7.4.5)\n",
      "Requirement already satisfied: click in c:\\users\\akram\\appdata\\local\\packages\\pythonsoftwarefoundation.python.3.11_qbz5n2kfra8p0\\localcache\\local-packages\\python311\\site-packages (from opendatasets) (8.1.6)\n",
      "Requirement already satisfied: colorama in c:\\users\\akram\\appdata\\local\\packages\\pythonsoftwarefoundation.python.3.11_qbz5n2kfra8p0\\localcache\\local-packages\\python311\\site-packages (from click->opendatasets) (0.4.6)\n",
      "Requirement already satisfied: bleach in c:\\users\\akram\\appdata\\local\\packages\\pythonsoftwarefoundation.python.3.11_qbz5n2kfra8p0\\localcache\\local-packages\\python311\\site-packages (from kaggle->opendatasets) (6.2.0)\n",
      "Requirement already satisfied: certifi>=14.05.14 in c:\\users\\akram\\appdata\\local\\packages\\pythonsoftwarefoundation.python.3.11_qbz5n2kfra8p0\\localcache\\local-packages\\python311\\site-packages (from kaggle->opendatasets) (2025.7.14)\n",
      "Requirement already satisfied: charset-normalizer in c:\\users\\akram\\appdata\\local\\packages\\pythonsoftwarefoundation.python.3.11_qbz5n2kfra8p0\\localcache\\local-packages\\python311\\site-packages (from kaggle->opendatasets) (3.4.2)\n",
      "Requirement already satisfied: idna in c:\\users\\akram\\appdata\\local\\packages\\pythonsoftwarefoundation.python.3.11_qbz5n2kfra8p0\\localcache\\local-packages\\python311\\site-packages (from kaggle->opendatasets) (3.10)\n",
      "Requirement already satisfied: protobuf in c:\\users\\akram\\appdata\\local\\packages\\pythonsoftwarefoundation.python.3.11_qbz5n2kfra8p0\\localcache\\local-packages\\python311\\site-packages (from kaggle->opendatasets) (6.31.1)\n",
      "Requirement already satisfied: python-dateutil>=2.5.3 in c:\\users\\akram\\appdata\\local\\packages\\pythonsoftwarefoundation.python.3.11_qbz5n2kfra8p0\\localcache\\local-packages\\python311\\site-packages (from kaggle->opendatasets) (2.9.0.post0)\n",
      "Requirement already satisfied: python-slugify in c:\\users\\akram\\appdata\\local\\packages\\pythonsoftwarefoundation.python.3.11_qbz5n2kfra8p0\\localcache\\local-packages\\python311\\site-packages (from kaggle->opendatasets) (8.0.4)\n",
      "Requirement already satisfied: requests in c:\\users\\akram\\appdata\\local\\packages\\pythonsoftwarefoundation.python.3.11_qbz5n2kfra8p0\\localcache\\local-packages\\python311\\site-packages (from kaggle->opendatasets) (2.32.4)\n",
      "Requirement already satisfied: setuptools>=21.0.0 in c:\\program files\\windowsapps\\pythonsoftwarefoundation.python.3.11_3.11.2544.0_x64__qbz5n2kfra8p0\\lib\\site-packages (from kaggle->opendatasets) (65.5.0)\n",
      "Requirement already satisfied: six>=1.10 in c:\\users\\akram\\appdata\\local\\packages\\pythonsoftwarefoundation.python.3.11_qbz5n2kfra8p0\\localcache\\local-packages\\python311\\site-packages (from kaggle->opendatasets) (1.16.0)\n",
      "Requirement already satisfied: text-unidecode in c:\\users\\akram\\appdata\\local\\packages\\pythonsoftwarefoundation.python.3.11_qbz5n2kfra8p0\\localcache\\local-packages\\python311\\site-packages (from kaggle->opendatasets) (1.3)\n",
      "Requirement already satisfied: urllib3>=1.15.1 in c:\\users\\akram\\appdata\\local\\packages\\pythonsoftwarefoundation.python.3.11_qbz5n2kfra8p0\\localcache\\local-packages\\python311\\site-packages (from kaggle->opendatasets) (2.5.0)\n",
      "Requirement already satisfied: webencodings in c:\\users\\akram\\appdata\\local\\packages\\pythonsoftwarefoundation.python.3.11_qbz5n2kfra8p0\\localcache\\local-packages\\python311\\site-packages (from kaggle->opendatasets) (0.5.1)\n",
      "Note: you may need to restart the kernel to use updated packages.\n"
     ]
    },
    {
     "name": "stderr",
     "output_type": "stream",
     "text": [
      "\n",
      "[notice] A new release of pip is available: 24.0 -> 25.2\n",
      "[notice] To update, run: C:\\Users\\akram\\AppData\\Local\\Microsoft\\WindowsApps\\PythonSoftwareFoundation.Python.3.11_qbz5n2kfra8p0\\python.exe -m pip install --upgrade pip\n"
     ]
    }
   ],
   "source": [
    "pip install opendatasets"
   ]
  },
  {
   "cell_type": "code",
   "execution_count": 2,
   "id": "705bd6b1-e544-4a74-9bb5-f75566d8d5b0",
   "metadata": {},
   "outputs": [],
   "source": [
    "import opendatasets as od"
   ]
  },
  {
   "cell_type": "code",
   "execution_count": 3,
   "id": "c30f785e-0702-4521-8e9d-bf480400e269",
   "metadata": {},
   "outputs": [],
   "source": [
    "dataset = 'https://www.kaggle.com/datasets/psparks/instacart-market-basket-analysis'"
   ]
  },
  {
   "cell_type": "code",
   "execution_count": 4,
   "id": "a98a6802-f4b9-4402-95e6-547c9f2d2267",
   "metadata": {},
   "outputs": [
    {
     "name": "stdout",
     "output_type": "stream",
     "text": [
      "Skipping, found downloaded files in \".\\instacart-market-basket-analysis\" (use force=True to force download)\n"
     ]
    }
   ],
   "source": [
    "od.download(dataset)"
   ]
  },
  {
   "cell_type": "code",
   "execution_count": 5,
   "id": "b01a4c3a-518e-41a4-925c-3e15481d8319",
   "metadata": {},
   "outputs": [],
   "source": [
    "import os"
   ]
  },
  {
   "cell_type": "code",
   "execution_count": 6,
   "id": "85eac9b6-a1da-4c58-a9a4-9bf759485852",
   "metadata": {},
   "outputs": [],
   "source": [
    "data_dir = 'instacart-market-basket-analysis'"
   ]
  },
  {
   "cell_type": "code",
   "execution_count": 7,
   "id": "04402855-9b01-416e-af6e-5cb54cdd7fbc",
   "metadata": {},
   "outputs": [
    {
     "data": {
      "text/plain": [
       "['aisles.csv',\n",
       " 'departments.csv',\n",
       " 'orders.csv',\n",
       " 'order_products__prior.csv',\n",
       " 'order_products__train.csv',\n",
       " 'products.csv']"
      ]
     },
     "execution_count": 7,
     "metadata": {},
     "output_type": "execute_result"
    }
   ],
   "source": [
    "os.listdir(data_dir)"
   ]
  },
  {
   "cell_type": "code",
   "execution_count": 8,
   "id": "b1c41837-6c72-4bbb-8a13-a2e1b8b3e3cf",
   "metadata": {},
   "outputs": [],
   "source": [
    "import pandas as pd"
   ]
  },
  {
   "cell_type": "code",
   "execution_count": 9,
   "id": "d8b59a02-3d4a-49b9-bf7e-8ee2e0a0301f",
   "metadata": {},
   "outputs": [
    {
     "name": "stdout",
     "output_type": "stream",
     "text": [
      "Requirement already satisfied: pandas in c:\\users\\akram\\appdata\\local\\packages\\pythonsoftwarefoundation.python.3.11_qbz5n2kfra8p0\\localcache\\local-packages\\python311\\site-packages (2.3.1)\n",
      "Requirement already satisfied: numpy>=1.23.2 in c:\\users\\akram\\appdata\\local\\packages\\pythonsoftwarefoundation.python.3.11_qbz5n2kfra8p0\\localcache\\local-packages\\python311\\site-packages (from pandas) (2.3.2)\n",
      "Requirement already satisfied: python-dateutil>=2.8.2 in c:\\users\\akram\\appdata\\local\\packages\\pythonsoftwarefoundation.python.3.11_qbz5n2kfra8p0\\localcache\\local-packages\\python311\\site-packages (from pandas) (2.9.0.post0)\n",
      "Requirement already satisfied: pytz>=2020.1 in c:\\users\\akram\\appdata\\local\\packages\\pythonsoftwarefoundation.python.3.11_qbz5n2kfra8p0\\localcache\\local-packages\\python311\\site-packages (from pandas) (2025.2)\n",
      "Requirement already satisfied: tzdata>=2022.7 in c:\\users\\akram\\appdata\\local\\packages\\pythonsoftwarefoundation.python.3.11_qbz5n2kfra8p0\\localcache\\local-packages\\python311\\site-packages (from pandas) (2025.2)\n",
      "Requirement already satisfied: six>=1.5 in c:\\users\\akram\\appdata\\local\\packages\\pythonsoftwarefoundation.python.3.11_qbz5n2kfra8p0\\localcache\\local-packages\\python311\\site-packages (from python-dateutil>=2.8.2->pandas) (1.16.0)\n"
     ]
    },
    {
     "name": "stderr",
     "output_type": "stream",
     "text": [
      "\n",
      "[notice] A new release of pip is available: 24.0 -> 25.2\n",
      "[notice] To update, run: C:\\Users\\akram\\AppData\\Local\\Microsoft\\WindowsApps\\PythonSoftwareFoundation.Python.3.11_qbz5n2kfra8p0\\python.exe -m pip install --upgrade pip\n"
     ]
    }
   ],
   "source": [
    "!pip install pandas"
   ]
  },
  {
   "cell_type": "code",
   "execution_count": 10,
   "id": "bf3671a6-6293-4ba9-ae2d-b2f46594986b",
   "metadata": {},
   "outputs": [],
   "source": [
    "import pandas as pd\n",
    "import os"
   ]
  },
  {
   "cell_type": "code",
   "execution_count": 11,
   "id": "46531ea8-6245-419b-88bf-6622329aca6f",
   "metadata": {},
   "outputs": [],
   "source": [
    "# Load the CSV files\n",
    "aisles = pd.read_csv(os.path.join(data_dir, 'aisles.csv'))\n",
    "departments = pd.read_csv(os.path.join(data_dir, 'departments.csv'))\n",
    "order_products_prior = pd.read_csv(os.path.join(data_dir, 'order_products__prior.csv'))\n",
    "order_products_train = pd.read_csv(os.path.join(data_dir, 'order_products__train.csv'))\n",
    "orders = pd.read_csv(os.path.join(data_dir, 'orders.csv'))\n",
    "products = pd.read_csv(os.path.join(data_dir, 'products.csv'))"
   ]
  },
  {
   "cell_type": "code",
   "execution_count": 12,
   "id": "6cfc3305-52a7-4e30-85c9-c96a2c376c62",
   "metadata": {},
   "outputs": [
    {
     "name": "stdout",
     "output_type": "stream",
     "text": [
      "   aisle_id                       aisle\n",
      "0         1       prepared soups salads\n",
      "1         2           specialty cheeses\n",
      "2         3         energy granola bars\n",
      "3         4               instant foods\n",
      "4         5  marinades meat preparation\n",
      "5         6                       other\n",
      "6         7               packaged meat\n",
      "7         8             bakery desserts\n",
      "8         9                 pasta sauce\n",
      "9        10            kitchen supplies\n"
     ]
    }
   ],
   "source": [
    "print(aisles.head(10))"
   ]
  },
  {
   "cell_type": "code",
   "execution_count": 13,
   "id": "5fbbad4d-7bc2-463f-b131-af6ea90cae48",
   "metadata": {},
   "outputs": [
    {
     "name": "stdout",
     "output_type": "stream",
     "text": [
      "     aisle_id                       aisle\n",
      "0           1       prepared soups salads\n",
      "1           2           specialty cheeses\n",
      "2           3         energy granola bars\n",
      "3           4               instant foods\n",
      "4           5  marinades meat preparation\n",
      "..        ...                         ...\n",
      "129       130    hot cereal pancake mixes\n",
      "130       131                   dry pasta\n",
      "131       132                      beauty\n",
      "132       133  muscles joints pain relief\n",
      "133       134  specialty wines champagnes\n",
      "\n",
      "[134 rows x 2 columns]\n"
     ]
    }
   ],
   "source": [
    "print(aisles)\n"
   ]
  },
  {
   "cell_type": "code",
   "execution_count": 14,
   "id": "3116685d-c5d8-4c41-916e-1ca184e55901",
   "metadata": {},
   "outputs": [
    {
     "data": {
      "text/html": [
       "<div>\n",
       "<style scoped>\n",
       "    .dataframe tbody tr th:only-of-type {\n",
       "        vertical-align: middle;\n",
       "    }\n",
       "\n",
       "    .dataframe tbody tr th {\n",
       "        vertical-align: top;\n",
       "    }\n",
       "\n",
       "    .dataframe thead th {\n",
       "        text-align: right;\n",
       "    }\n",
       "</style>\n",
       "<table border=\"1\" class=\"dataframe\">\n",
       "  <thead>\n",
       "    <tr style=\"text-align: right;\">\n",
       "      <th></th>\n",
       "      <th>aisle_id</th>\n",
       "      <th>aisle</th>\n",
       "    </tr>\n",
       "  </thead>\n",
       "  <tbody>\n",
       "    <tr>\n",
       "      <th>0</th>\n",
       "      <td>1</td>\n",
       "      <td>prepared soups salads</td>\n",
       "    </tr>\n",
       "    <tr>\n",
       "      <th>1</th>\n",
       "      <td>2</td>\n",
       "      <td>specialty cheeses</td>\n",
       "    </tr>\n",
       "    <tr>\n",
       "      <th>2</th>\n",
       "      <td>3</td>\n",
       "      <td>energy granola bars</td>\n",
       "    </tr>\n",
       "    <tr>\n",
       "      <th>3</th>\n",
       "      <td>4</td>\n",
       "      <td>instant foods</td>\n",
       "    </tr>\n",
       "    <tr>\n",
       "      <th>4</th>\n",
       "      <td>5</td>\n",
       "      <td>marinades meat preparation</td>\n",
       "    </tr>\n",
       "  </tbody>\n",
       "</table>\n",
       "</div>"
      ],
      "text/plain": [
       "   aisle_id                       aisle\n",
       "0         1       prepared soups salads\n",
       "1         2           specialty cheeses\n",
       "2         3         energy granola bars\n",
       "3         4               instant foods\n",
       "4         5  marinades meat preparation"
      ]
     },
     "execution_count": 14,
     "metadata": {},
     "output_type": "execute_result"
    }
   ],
   "source": [
    "aisles.head()"
   ]
  },
  {
   "cell_type": "code",
   "execution_count": 15,
   "id": "e8381fd3-f2aa-4d1d-b385-e72a8337d9fc",
   "metadata": {},
   "outputs": [
    {
     "data": {
      "text/plain": [
       "Index(['aisle_id', 'aisle'], dtype='object')"
      ]
     },
     "execution_count": 15,
     "metadata": {},
     "output_type": "execute_result"
    }
   ],
   "source": [
    "aisles.columns"
   ]
  },
  {
   "cell_type": "code",
   "execution_count": 16,
   "id": "f5fd9820-02f8-4361-b864-17f89d60b307",
   "metadata": {},
   "outputs": [
    {
     "name": "stdout",
     "output_type": "stream",
     "text": [
      "(134, 2)\n",
      "(21, 2)\n",
      "(49688, 4)\n",
      "(3421083, 7)\n",
      "(32434489, 4)\n",
      "(1384617, 4)\n"
     ]
    }
   ],
   "source": [
    "print(aisles.shape)\n",
    "print(departments.shape)\n",
    "print(products.shape)\n",
    "print(orders.shape)\n",
    "print(order_products_prior.shape)\n",
    "print(order_products_train.shape)\n"
   ]
  },
  {
   "cell_type": "code",
   "execution_count": 17,
   "id": "63866bdf-e484-4a79-9120-6fc0f97ef20b",
   "metadata": {},
   "outputs": [
    {
     "name": "stdout",
     "output_type": "stream",
     "text": [
      "   aisle_id                       aisle\n",
      "0         1       prepared soups salads\n",
      "1         2           specialty cheeses\n",
      "2         3         energy granola bars\n",
      "3         4               instant foods\n",
      "4         5  marinades meat preparation\n",
      "   department_id department\n",
      "0              1     frozen\n",
      "1              2      other\n",
      "2              3     bakery\n",
      "3              4    produce\n",
      "4              5    alcohol\n",
      "   order_id  user_id eval_set  order_number  order_dow  order_hour_of_day  \\\n",
      "0   2539329        1    prior             1          2                  8   \n",
      "1   2398795        1    prior             2          3                  7   \n",
      "2    473747        1    prior             3          3                 12   \n",
      "3   2254736        1    prior             4          4                  7   \n",
      "4    431534        1    prior             5          4                 15   \n",
      "\n",
      "   days_since_prior_order  \n",
      "0                     NaN  \n",
      "1                    15.0  \n",
      "2                    21.0  \n",
      "3                    29.0  \n",
      "4                    28.0  \n",
      "   product_id                                       product_name  aisle_id  \\\n",
      "0           1                         Chocolate Sandwich Cookies        61   \n",
      "1           2                                   All-Seasons Salt       104   \n",
      "2           3               Robust Golden Unsweetened Oolong Tea        94   \n",
      "3           4  Smart Ones Classic Favorites Mini Rigatoni Wit...        38   \n",
      "4           5                          Green Chile Anytime Sauce         5   \n",
      "\n",
      "   department_id  \n",
      "0             19  \n",
      "1             13  \n",
      "2              7  \n",
      "3              1  \n",
      "4             13  \n",
      "   order_id  product_id  add_to_cart_order  reordered\n",
      "0         2       33120                  1          1\n",
      "1         2       28985                  2          1\n",
      "2         2        9327                  3          0\n",
      "3         2       45918                  4          1\n",
      "4         2       30035                  5          0\n",
      "   order_id  product_id  add_to_cart_order  reordered\n",
      "0         1       49302                  1          1\n",
      "1         1       11109                  2          1\n",
      "2         1       10246                  3          0\n",
      "3         1       49683                  4          0\n",
      "4         1       43633                  5          1\n"
     ]
    }
   ],
   "source": [
    "print(aisles.head())\n",
    "print(departments.head())\n",
    "print(orders.head())\n",
    "print(products.head())\n",
    "print(order_products_prior.head())\n",
    "print(order_products_train.head())"
   ]
  },
  {
   "cell_type": "code",
   "execution_count": 18,
   "id": "a53fb426-ded6-494f-85a9-d1659215f771",
   "metadata": {},
   "outputs": [
    {
     "name": "stdout",
     "output_type": "stream",
     "text": [
      "aisles:\n",
      " aisle_id    0\n",
      "aisle       0\n",
      "dtype: int64\n",
      "departments:\n",
      " department_id    0\n",
      "department       0\n",
      "dtype: int64\n",
      "orders:\n",
      " order_id                       0\n",
      "user_id                        0\n",
      "eval_set                       0\n",
      "order_number                   0\n",
      "order_dow                      0\n",
      "order_hour_of_day              0\n",
      "days_since_prior_order    206209\n",
      "dtype: int64\n",
      "products:\n",
      " product_id       0\n",
      "product_name     0\n",
      "aisle_id         0\n",
      "department_id    0\n",
      "dtype: int64\n",
      "order_products_prior:\n",
      " order_id             0\n",
      "product_id           0\n",
      "add_to_cart_order    0\n",
      "reordered            0\n",
      "dtype: int64\n",
      "order_products_train:\n",
      " order_id             0\n",
      "product_id           0\n",
      "add_to_cart_order    0\n",
      "reordered            0\n",
      "dtype: int64\n"
     ]
    }
   ],
   "source": [
    "print(\"aisles:\\n\", aisles.isnull().sum())\n",
    "print(\"departments:\\n\", departments.isnull().sum())\n",
    "print(\"orders:\\n\", orders.isnull().sum())\n",
    "print(\"products:\\n\", products.isnull().sum())\n",
    "print(\"order_products_prior:\\n\", order_products_prior.isnull().sum())\n",
    "print(\"order_products_train:\\n\", order_products_train.isnull().sum())"
   ]
  },
  {
   "cell_type": "markdown",
   "id": "c6f2878f-f063-4c01-bbd5-1d0aec3a235e",
   "metadata": {},
   "source": [
    "Null Check Completed"
   ]
  },
  {
   "cell_type": "code",
   "execution_count": 19,
   "id": "e47fd538-09c9-49cd-ae7d-e532f41848c6",
   "metadata": {},
   "outputs": [
    {
     "name": "stdout",
     "output_type": "stream",
     "text": [
      "aisles:\n",
      " 0\n",
      "departments:\n",
      " 0\n",
      "orders:\n",
      " 0\n",
      "products:\n",
      " 0\n",
      "order_products_prior:\n",
      " 0\n",
      "order_products_train:\n",
      " 0\n"
     ]
    }
   ],
   "source": [
    "print(\"aisles:\\n\", aisles.duplicated().sum())\n",
    "print(\"departments:\\n\", departments.duplicated().sum())\n",
    "print(\"orders:\\n\", orders.duplicated().sum())\n",
    "print(\"products:\\n\", products.duplicated().sum())\n",
    "print(\"order_products_prior:\\n\", order_products_prior.duplicated().sum())\n",
    "print(\"order_products_train:\\n\", order_products_train.duplicated().sum())"
   ]
  },
  {
   "cell_type": "markdown",
   "id": "c202d82d-c628-4a13-a964-9f29af13af14",
   "metadata": {},
   "source": [
    "Duplicate Check Completed"
   ]
  },
  {
   "cell_type": "markdown",
   "id": "fc525cea-6e13-4feb-88ed-5b5c7138e55b",
   "metadata": {},
   "source": [
    "Step 3: Merge: \n",
    "    Content-based recommendations (e.g., \"show similar products in the same department\")\n",
    "\n",
    "    Human-readable output (not just IDs)\n",
    "\n",
    "    Visualizations by department or aisle"
   ]
  },
  {
   "cell_type": "code",
   "execution_count": 20,
   "id": "e701b230-129d-4636-924c-d3a47c93fbba",
   "metadata": {},
   "outputs": [],
   "source": [
    "products_merged = products.merge(aisles, on='aisle_id')"
   ]
  },
  {
   "cell_type": "code",
   "execution_count": 21,
   "id": "e1315698-5be7-4cd5-aeda-e6f1dac0fac3",
   "metadata": {},
   "outputs": [],
   "source": [
    "products_full = products_merged.merge(departments, on='department_id')"
   ]
  },
  {
   "cell_type": "code",
   "execution_count": 22,
   "id": "177ff8e9-7ecf-4752-8e32-9dc07f32df3e",
   "metadata": {},
   "outputs": [
    {
     "name": "stdout",
     "output_type": "stream",
     "text": [
      "   product_id                                       product_name  aisle_id  \\\n",
      "0           1                         Chocolate Sandwich Cookies        61   \n",
      "1           2                                   All-Seasons Salt       104   \n",
      "2           3               Robust Golden Unsweetened Oolong Tea        94   \n",
      "3           4  Smart Ones Classic Favorites Mini Rigatoni Wit...        38   \n",
      "4           5                          Green Chile Anytime Sauce         5   \n",
      "\n",
      "   department_id                       aisle department  \n",
      "0             19               cookies cakes     snacks  \n",
      "1             13           spices seasonings     pantry  \n",
      "2              7                         tea  beverages  \n",
      "3              1                frozen meals     frozen  \n",
      "4             13  marinades meat preparation     pantry  \n"
     ]
    }
   ],
   "source": [
    "print(products_full.head())"
   ]
  },
  {
   "cell_type": "markdown",
   "id": "fa08bb7c-eb3d-4f18-85a1-da48044dd0af",
   "metadata": {},
   "source": [
    "merge completed\n",
    "\n",
    "\n",
    "\n",
    "\n",
    "Step 4:Combine Order-Product Tables"
   ]
  },
  {
   "cell_type": "code",
   "execution_count": 23,
   "id": "527bbcea-46b8-401b-856e-de7517630a3e",
   "metadata": {},
   "outputs": [
    {
     "data": {
      "text/html": [
       "<div>\n",
       "<style scoped>\n",
       "    .dataframe tbody tr th:only-of-type {\n",
       "        vertical-align: middle;\n",
       "    }\n",
       "\n",
       "    .dataframe tbody tr th {\n",
       "        vertical-align: top;\n",
       "    }\n",
       "\n",
       "    .dataframe thead th {\n",
       "        text-align: right;\n",
       "    }\n",
       "</style>\n",
       "<table border=\"1\" class=\"dataframe\">\n",
       "  <thead>\n",
       "    <tr style=\"text-align: right;\">\n",
       "      <th></th>\n",
       "      <th>order_id</th>\n",
       "      <th>product_id</th>\n",
       "      <th>add_to_cart_order</th>\n",
       "      <th>reordered</th>\n",
       "    </tr>\n",
       "  </thead>\n",
       "  <tbody>\n",
       "    <tr>\n",
       "      <th>0</th>\n",
       "      <td>2</td>\n",
       "      <td>33120</td>\n",
       "      <td>1</td>\n",
       "      <td>1</td>\n",
       "    </tr>\n",
       "    <tr>\n",
       "      <th>1</th>\n",
       "      <td>2</td>\n",
       "      <td>28985</td>\n",
       "      <td>2</td>\n",
       "      <td>1</td>\n",
       "    </tr>\n",
       "    <tr>\n",
       "      <th>2</th>\n",
       "      <td>2</td>\n",
       "      <td>9327</td>\n",
       "      <td>3</td>\n",
       "      <td>0</td>\n",
       "    </tr>\n",
       "    <tr>\n",
       "      <th>3</th>\n",
       "      <td>2</td>\n",
       "      <td>45918</td>\n",
       "      <td>4</td>\n",
       "      <td>1</td>\n",
       "    </tr>\n",
       "    <tr>\n",
       "      <th>4</th>\n",
       "      <td>2</td>\n",
       "      <td>30035</td>\n",
       "      <td>5</td>\n",
       "      <td>0</td>\n",
       "    </tr>\n",
       "  </tbody>\n",
       "</table>\n",
       "</div>"
      ],
      "text/plain": [
       "   order_id  product_id  add_to_cart_order  reordered\n",
       "0         2       33120                  1          1\n",
       "1         2       28985                  2          1\n",
       "2         2        9327                  3          0\n",
       "3         2       45918                  4          1\n",
       "4         2       30035                  5          0"
      ]
     },
     "execution_count": 23,
     "metadata": {},
     "output_type": "execute_result"
    }
   ],
   "source": [
    "# Combine both prior and train order-product records\n",
    "order_products = pd.concat([order_products_prior, order_products_train])\n",
    "\n",
    "# Reset index (optional, for cleanliness)\n",
    "order_products.reset_index(drop=True, inplace=True)\n",
    "\n",
    "# Preview\n",
    "order_products.head()\n"
   ]
  },
  {
   "cell_type": "code",
   "execution_count": 24,
   "id": "940318e7-e4e4-436b-9de5-024fb6cb8ada",
   "metadata": {},
   "outputs": [
    {
     "data": {
      "text/html": [
       "<div>\n",
       "<style scoped>\n",
       "    .dataframe tbody tr th:only-of-type {\n",
       "        vertical-align: middle;\n",
       "    }\n",
       "\n",
       "    .dataframe tbody tr th {\n",
       "        vertical-align: top;\n",
       "    }\n",
       "\n",
       "    .dataframe thead th {\n",
       "        text-align: right;\n",
       "    }\n",
       "</style>\n",
       "<table border=\"1\" class=\"dataframe\">\n",
       "  <thead>\n",
       "    <tr style=\"text-align: right;\">\n",
       "      <th></th>\n",
       "      <th>order_id</th>\n",
       "      <th>product_id</th>\n",
       "      <th>add_to_cart_order</th>\n",
       "      <th>reordered</th>\n",
       "    </tr>\n",
       "  </thead>\n",
       "  <tbody>\n",
       "    <tr>\n",
       "      <th>0</th>\n",
       "      <td>2</td>\n",
       "      <td>33120</td>\n",
       "      <td>1</td>\n",
       "      <td>1</td>\n",
       "    </tr>\n",
       "    <tr>\n",
       "      <th>1</th>\n",
       "      <td>2</td>\n",
       "      <td>28985</td>\n",
       "      <td>2</td>\n",
       "      <td>1</td>\n",
       "    </tr>\n",
       "    <tr>\n",
       "      <th>2</th>\n",
       "      <td>2</td>\n",
       "      <td>9327</td>\n",
       "      <td>3</td>\n",
       "      <td>0</td>\n",
       "    </tr>\n",
       "    <tr>\n",
       "      <th>3</th>\n",
       "      <td>2</td>\n",
       "      <td>45918</td>\n",
       "      <td>4</td>\n",
       "      <td>1</td>\n",
       "    </tr>\n",
       "    <tr>\n",
       "      <th>4</th>\n",
       "      <td>2</td>\n",
       "      <td>30035</td>\n",
       "      <td>5</td>\n",
       "      <td>0</td>\n",
       "    </tr>\n",
       "  </tbody>\n",
       "</table>\n",
       "</div>"
      ],
      "text/plain": [
       "   order_id  product_id  add_to_cart_order  reordered\n",
       "0         2       33120                  1          1\n",
       "1         2       28985                  2          1\n",
       "2         2        9327                  3          0\n",
       "3         2       45918                  4          1\n",
       "4         2       30035                  5          0"
      ]
     },
     "execution_count": 24,
     "metadata": {},
     "output_type": "execute_result"
    }
   ],
   "source": [
    "order_products.head()"
   ]
  },
  {
   "cell_type": "code",
   "execution_count": 25,
   "id": "d0a22397-ee57-4b4e-a3a1-6737b24090ed",
   "metadata": {},
   "outputs": [
    {
     "name": "stdout",
     "output_type": "stream",
     "text": [
      "(33819106, 4)\n",
      "3346083\n",
      "49685\n"
     ]
    }
   ],
   "source": [
    "print(order_products.shape)\n",
    "print(order_products['order_id'].nunique())  # how many orders\n",
    "print(order_products['product_id'].nunique())  # how many products\n"
   ]
  },
  {
   "cell_type": "markdown",
   "id": "89aee70a-eccc-4f40-9b1f-c9e1d2eb47da",
   "metadata": {},
   "source": [
    "Step 5: Merge user_id into the combined order-products table.\n",
    "So far, order_products has:\n",
    "\n",
    "order_id\n",
    "\n",
    "product_id\n",
    "\n",
    "add_to_cart_order\n",
    "\n",
    "reordered\n",
    "\n",
    "But it does not include user_id, which we need for:\n",
    "\n",
    "Collaborative filtering (user-product matrix)\n",
    "\n",
    "Analyzing user behavior\n",
    "\n"
   ]
  },
  {
   "cell_type": "code",
   "execution_count": 26,
   "id": "a1d351a4-6181-4af2-9d18-c73aec4594c3",
   "metadata": {},
   "outputs": [
    {
     "data": {
      "text/html": [
       "<div>\n",
       "<style scoped>\n",
       "    .dataframe tbody tr th:only-of-type {\n",
       "        vertical-align: middle;\n",
       "    }\n",
       "\n",
       "    .dataframe tbody tr th {\n",
       "        vertical-align: top;\n",
       "    }\n",
       "\n",
       "    .dataframe thead th {\n",
       "        text-align: right;\n",
       "    }\n",
       "</style>\n",
       "<table border=\"1\" class=\"dataframe\">\n",
       "  <thead>\n",
       "    <tr style=\"text-align: right;\">\n",
       "      <th></th>\n",
       "      <th>order_id</th>\n",
       "      <th>product_id</th>\n",
       "      <th>add_to_cart_order</th>\n",
       "      <th>reordered</th>\n",
       "      <th>user_id</th>\n",
       "    </tr>\n",
       "  </thead>\n",
       "  <tbody>\n",
       "    <tr>\n",
       "      <th>0</th>\n",
       "      <td>2</td>\n",
       "      <td>33120</td>\n",
       "      <td>1</td>\n",
       "      <td>1</td>\n",
       "      <td>202279</td>\n",
       "    </tr>\n",
       "    <tr>\n",
       "      <th>1</th>\n",
       "      <td>2</td>\n",
       "      <td>28985</td>\n",
       "      <td>2</td>\n",
       "      <td>1</td>\n",
       "      <td>202279</td>\n",
       "    </tr>\n",
       "    <tr>\n",
       "      <th>2</th>\n",
       "      <td>2</td>\n",
       "      <td>9327</td>\n",
       "      <td>3</td>\n",
       "      <td>0</td>\n",
       "      <td>202279</td>\n",
       "    </tr>\n",
       "    <tr>\n",
       "      <th>3</th>\n",
       "      <td>2</td>\n",
       "      <td>45918</td>\n",
       "      <td>4</td>\n",
       "      <td>1</td>\n",
       "      <td>202279</td>\n",
       "    </tr>\n",
       "    <tr>\n",
       "      <th>4</th>\n",
       "      <td>2</td>\n",
       "      <td>30035</td>\n",
       "      <td>5</td>\n",
       "      <td>0</td>\n",
       "      <td>202279</td>\n",
       "    </tr>\n",
       "  </tbody>\n",
       "</table>\n",
       "</div>"
      ],
      "text/plain": [
       "   order_id  product_id  add_to_cart_order  reordered  user_id\n",
       "0         2       33120                  1          1   202279\n",
       "1         2       28985                  2          1   202279\n",
       "2         2        9327                  3          0   202279\n",
       "3         2       45918                  4          1   202279\n",
       "4         2       30035                  5          0   202279"
      ]
     },
     "execution_count": 26,
     "metadata": {},
     "output_type": "execute_result"
    }
   ],
   "source": [
    "# Merge order_products with orders to get user_id\n",
    "order_merged = order_products.merge(orders[['order_id', 'user_id']], on='order_id')\n",
    "\n",
    "# Preview the result\n",
    "order_merged.head()\n"
   ]
  },
  {
   "cell_type": "code",
   "execution_count": 27,
   "id": "0562dca1-496b-4a58-a1ad-2940b8b778bf",
   "metadata": {},
   "outputs": [
    {
     "data": {
      "text/html": [
       "<div>\n",
       "<style scoped>\n",
       "    .dataframe tbody tr th:only-of-type {\n",
       "        vertical-align: middle;\n",
       "    }\n",
       "\n",
       "    .dataframe tbody tr th {\n",
       "        vertical-align: top;\n",
       "    }\n",
       "\n",
       "    .dataframe thead th {\n",
       "        text-align: right;\n",
       "    }\n",
       "</style>\n",
       "<table border=\"1\" class=\"dataframe\">\n",
       "  <thead>\n",
       "    <tr style=\"text-align: right;\">\n",
       "      <th></th>\n",
       "      <th>user_id</th>\n",
       "      <th>order_id</th>\n",
       "      <th>product_id</th>\n",
       "      <th>add_to_cart_order</th>\n",
       "      <th>reordered</th>\n",
       "    </tr>\n",
       "  </thead>\n",
       "  <tbody>\n",
       "    <tr>\n",
       "      <th>0</th>\n",
       "      <td>202279</td>\n",
       "      <td>2</td>\n",
       "      <td>33120</td>\n",
       "      <td>1</td>\n",
       "      <td>1</td>\n",
       "    </tr>\n",
       "    <tr>\n",
       "      <th>1</th>\n",
       "      <td>202279</td>\n",
       "      <td>2</td>\n",
       "      <td>28985</td>\n",
       "      <td>2</td>\n",
       "      <td>1</td>\n",
       "    </tr>\n",
       "    <tr>\n",
       "      <th>2</th>\n",
       "      <td>202279</td>\n",
       "      <td>2</td>\n",
       "      <td>9327</td>\n",
       "      <td>3</td>\n",
       "      <td>0</td>\n",
       "    </tr>\n",
       "    <tr>\n",
       "      <th>3</th>\n",
       "      <td>202279</td>\n",
       "      <td>2</td>\n",
       "      <td>45918</td>\n",
       "      <td>4</td>\n",
       "      <td>1</td>\n",
       "    </tr>\n",
       "    <tr>\n",
       "      <th>4</th>\n",
       "      <td>202279</td>\n",
       "      <td>2</td>\n",
       "      <td>30035</td>\n",
       "      <td>5</td>\n",
       "      <td>0</td>\n",
       "    </tr>\n",
       "  </tbody>\n",
       "</table>\n",
       "</div>"
      ],
      "text/plain": [
       "   user_id  order_id  product_id  add_to_cart_order  reordered\n",
       "0   202279         2       33120                  1          1\n",
       "1   202279         2       28985                  2          1\n",
       "2   202279         2        9327                  3          0\n",
       "3   202279         2       45918                  4          1\n",
       "4   202279         2       30035                  5          0"
      ]
     },
     "execution_count": 27,
     "metadata": {},
     "output_type": "execute_result"
    }
   ],
   "source": [
    "order_merged = order_merged[['user_id', 'order_id', 'product_id', 'add_to_cart_order', 'reordered']]\n",
    "order_merged.head()\n"
   ]
  },
  {
   "cell_type": "code",
   "execution_count": 28,
   "id": "0cec5305-5a25-4e80-982d-87a3ce64ef8e",
   "metadata": {},
   "outputs": [
    {
     "name": "stdout",
     "output_type": "stream",
     "text": [
      "<class 'pandas.core.frame.DataFrame'>\n",
      "RangeIndex: 33819106 entries, 0 to 33819105\n",
      "Data columns (total 5 columns):\n",
      " #   Column             Dtype\n",
      "---  ------             -----\n",
      " 0   user_id            int64\n",
      " 1   order_id           int64\n",
      " 2   product_id         int64\n",
      " 3   add_to_cart_order  int64\n",
      " 4   reordered          int64\n",
      "dtypes: int64(5)\n",
      "memory usage: 1.3 GB\n"
     ]
    }
   ],
   "source": [
    "order_merged.info()\n"
   ]
  },
  {
   "cell_type": "markdown",
   "id": "056e6e82-d6e3-44f2-a6b8-bc74a3538526",
   "metadata": {},
   "source": [
    "step5 :  completed\n",
    "\n",
    "\n",
    "Step6: Clean nulls & duplicates + create user-product interactions.\n",
    "\n",
    "\n"
   ]
  },
  {
   "cell_type": "code",
   "execution_count": 29,
   "id": "6b0b53c4-948e-40e0-80c5-60bc6b26c185",
   "metadata": {},
   "outputs": [
    {
     "data": {
      "text/plain": [
       "user_id              0\n",
       "order_id             0\n",
       "product_id           0\n",
       "add_to_cart_order    0\n",
       "reordered            0\n",
       "dtype: int64"
      ]
     },
     "execution_count": 29,
     "metadata": {},
     "output_type": "execute_result"
    }
   ],
   "source": [
    "order_merged.isnull().sum()\n"
   ]
  },
  {
   "cell_type": "code",
   "execution_count": 30,
   "id": "5ed98822-1af1-48ef-9a17-76d9590ca0b1",
   "metadata": {},
   "outputs": [
    {
     "data": {
      "text/plain": [
       "np.int64(0)"
      ]
     },
     "execution_count": 30,
     "metadata": {},
     "output_type": "execute_result"
    }
   ],
   "source": [
    "order_merged.duplicated().sum()\n"
   ]
  },
  {
   "cell_type": "code",
   "execution_count": 31,
   "id": "eb41ed5d-608a-44c8-a5bb-bc5303567c37",
   "metadata": {},
   "outputs": [
    {
     "data": {
      "text/html": [
       "<div>\n",
       "<style scoped>\n",
       "    .dataframe tbody tr th:only-of-type {\n",
       "        vertical-align: middle;\n",
       "    }\n",
       "\n",
       "    .dataframe tbody tr th {\n",
       "        vertical-align: top;\n",
       "    }\n",
       "\n",
       "    .dataframe thead th {\n",
       "        text-align: right;\n",
       "    }\n",
       "</style>\n",
       "<table border=\"1\" class=\"dataframe\">\n",
       "  <thead>\n",
       "    <tr style=\"text-align: right;\">\n",
       "      <th></th>\n",
       "      <th>user_id</th>\n",
       "      <th>product_id</th>\n",
       "      <th>purchase_count</th>\n",
       "    </tr>\n",
       "  </thead>\n",
       "  <tbody>\n",
       "    <tr>\n",
       "      <th>0</th>\n",
       "      <td>1</td>\n",
       "      <td>196</td>\n",
       "      <td>11</td>\n",
       "    </tr>\n",
       "    <tr>\n",
       "      <th>1</th>\n",
       "      <td>1</td>\n",
       "      <td>10258</td>\n",
       "      <td>10</td>\n",
       "    </tr>\n",
       "    <tr>\n",
       "      <th>2</th>\n",
       "      <td>1</td>\n",
       "      <td>10326</td>\n",
       "      <td>1</td>\n",
       "    </tr>\n",
       "    <tr>\n",
       "      <th>3</th>\n",
       "      <td>1</td>\n",
       "      <td>12427</td>\n",
       "      <td>10</td>\n",
       "    </tr>\n",
       "    <tr>\n",
       "      <th>4</th>\n",
       "      <td>1</td>\n",
       "      <td>13032</td>\n",
       "      <td>4</td>\n",
       "    </tr>\n",
       "  </tbody>\n",
       "</table>\n",
       "</div>"
      ],
      "text/plain": [
       "   user_id  product_id  purchase_count\n",
       "0        1         196              11\n",
       "1        1       10258              10\n",
       "2        1       10326               1\n",
       "3        1       12427              10\n",
       "4        1       13032               4"
      ]
     },
     "execution_count": 31,
     "metadata": {},
     "output_type": "execute_result"
    }
   ],
   "source": [
    "user_product = order_merged.groupby(['user_id', 'product_id']).size().reset_index(name='purchase_count')\n",
    "user_product.head()\n"
   ]
  },
  {
   "cell_type": "code",
   "execution_count": 32,
   "id": "cc3ffcbf-94aa-43fe-b822-128e5f01d712",
   "metadata": {},
   "outputs": [
    {
     "data": {
      "text/html": [
       "<div>\n",
       "<style scoped>\n",
       "    .dataframe tbody tr th:only-of-type {\n",
       "        vertical-align: middle;\n",
       "    }\n",
       "\n",
       "    .dataframe tbody tr th {\n",
       "        vertical-align: top;\n",
       "    }\n",
       "\n",
       "    .dataframe thead th {\n",
       "        text-align: right;\n",
       "    }\n",
       "</style>\n",
       "<table border=\"1\" class=\"dataframe\">\n",
       "  <thead>\n",
       "    <tr style=\"text-align: right;\">\n",
       "      <th></th>\n",
       "      <th>user_id</th>\n",
       "      <th>product_id</th>\n",
       "      <th>purchase_count</th>\n",
       "    </tr>\n",
       "  </thead>\n",
       "  <tbody>\n",
       "    <tr>\n",
       "      <th>2767396</th>\n",
       "      <td>41356</td>\n",
       "      <td>38652</td>\n",
       "      <td>100</td>\n",
       "    </tr>\n",
       "    <tr>\n",
       "      <th>2767339</th>\n",
       "      <td>41356</td>\n",
       "      <td>6583</td>\n",
       "      <td>100</td>\n",
       "    </tr>\n",
       "    <tr>\n",
       "      <th>2767357</th>\n",
       "      <td>41356</td>\n",
       "      <td>14366</td>\n",
       "      <td>100</td>\n",
       "    </tr>\n",
       "    <tr>\n",
       "      <th>2767381</th>\n",
       "      <td>41356</td>\n",
       "      <td>29671</td>\n",
       "      <td>99</td>\n",
       "    </tr>\n",
       "    <tr>\n",
       "      <th>9538863</th>\n",
       "      <td>141736</td>\n",
       "      <td>25133</td>\n",
       "      <td>99</td>\n",
       "    </tr>\n",
       "    <tr>\n",
       "      <th>6988289</th>\n",
       "      <td>103593</td>\n",
       "      <td>28204</td>\n",
       "      <td>99</td>\n",
       "    </tr>\n",
       "    <tr>\n",
       "      <th>1202643</th>\n",
       "      <td>17997</td>\n",
       "      <td>4210</td>\n",
       "      <td>99</td>\n",
       "    </tr>\n",
       "    <tr>\n",
       "      <th>8153917</th>\n",
       "      <td>120897</td>\n",
       "      <td>12013</td>\n",
       "      <td>98</td>\n",
       "    </tr>\n",
       "    <tr>\n",
       "      <th>6727579</th>\n",
       "      <td>99707</td>\n",
       "      <td>24852</td>\n",
       "      <td>98</td>\n",
       "    </tr>\n",
       "    <tr>\n",
       "      <th>4704707</th>\n",
       "      <td>69919</td>\n",
       "      <td>24852</td>\n",
       "      <td>97</td>\n",
       "    </tr>\n",
       "  </tbody>\n",
       "</table>\n",
       "</div>"
      ],
      "text/plain": [
       "         user_id  product_id  purchase_count\n",
       "2767396    41356       38652             100\n",
       "2767339    41356        6583             100\n",
       "2767357    41356       14366             100\n",
       "2767381    41356       29671              99\n",
       "9538863   141736       25133              99\n",
       "6988289   103593       28204              99\n",
       "1202643    17997        4210              99\n",
       "8153917   120897       12013              98\n",
       "6727579    99707       24852              98\n",
       "4704707    69919       24852              97"
      ]
     },
     "execution_count": 32,
     "metadata": {},
     "output_type": "execute_result"
    }
   ],
   "source": [
    "user_product.sort_values(by='purchase_count', ascending=False).head(10)\n"
   ]
  },
  {
   "cell_type": "markdown",
   "id": "7037c20f-4c71-4f38-8763-4e96397d9f64",
   "metadata": {},
   "source": [
    "cleaned nulls & duplicates\n",
    "\n",
    "created user_product table"
   ]
  },
  {
   "cell_type": "markdown",
   "id": "492507ac-8602-434d-acc4-e53ad0697899",
   "metadata": {},
   "source": [
    "Step 7: Save cleaned data or move to model-building."
   ]
  },
  {
   "cell_type": "code",
   "execution_count": 34,
   "id": "298e0e4e-a2f5-430a-879b-d8c9d84fcf4d",
   "metadata": {},
   "outputs": [],
   "source": [
    "# Save the interaction data\n",
    "#user_product.to_csv('user_product_interactions.csv', index=False)\n",
    "\n",
    "# Also save cleaned product metadata (if needed for content-based filtering)\n",
    "#products_full.to_csv('products_cleaned.csv', index=False)\n",
    "# (Optional) Save order_merged\n",
    "#order_merged.to_csv('orders_merged.csv', index=False)\n"
   ]
  },
  {
   "cell_type": "code",
   "execution_count": 35,
   "id": "b11fca70-7e33-4548-95ce-97c0cfa7ff68",
   "metadata": {},
   "outputs": [
    {
     "data": {
      "image/png": "[encoded data removed]",
      "text/plain": [
       "<Figure size 1000x600 with 1 Axes>"
      ]
     },
     "metadata": {},
     "output_type": "display_data"
    }
   ],
   "source": [
    "import matplotlib.pyplot as plt\n",
    "import seaborn as sns\n",
    "\n",
    "# Merge product names into user_product\n",
    "top_products = user_product.merge(products_full[['product_id', 'product_name']], on='product_id')\n",
    "\n",
    "# Group and sort\n",
    "top_20 = top_products.groupby('product_name')['purchase_count'].sum().sort_values(ascending=False).head(20)\n",
    "\n",
    "# Plot\n",
    "plt.figure(figsize=(10,6))\n",
    "sns.barplot(y=top_20.index, x=top_20.values)\n",
    "plt.title(\"Top 20 Most Purchased Products\")\n",
    "plt.xlabel(\"Total Purchases\")\n",
    "plt.ylabel(\"Product Name\")\n",
    "plt.tight_layout()\n",
    "plt.show()\n"
   ]
  },
  {
   "cell_type": "code",
   "execution_count": 36,
   "id": "fd8491f1-c7f3-47b2-9c77-8108c9ae7b62",
   "metadata": {},
   "outputs": [
    {
     "data": {
      "image/png": "[encoded data removed]",
      "text/plain": [
       "<Figure size 1000x500 with 1 Axes>"
      ]
     },
     "metadata": {},
     "output_type": "display_data"
    }
   ],
   "source": [
    "top_users = user_product.groupby('user_id')['purchase_count'].sum().sort_values(ascending=False).head(20)\n",
    "\n",
    "plt.figure(figsize=(10,5))\n",
    "sns.barplot(x=top_users.index.astype(str), y=top_users.values)\n",
    "plt.title(\"Top 20 Active Users by Purchase Count\")\n",
    "plt.xlabel(\"User ID\")\n",
    "plt.ylabel(\"Total Purchases\")\n",
    "plt.xticks(rotation=45)\n",
    "plt.tight_layout()\n",
    "plt.show()\n"
   ]
  },
  {
   "cell_type": "code",
   "execution_count": 37,
   "id": "3db791ec-587a-4f8c-943b-28bc4f987a02",
   "metadata": {},
   "outputs": [
    {
     "data": {
      "image/png": "[encoded data removed]",
      "text/plain": [
       "<Figure size 800x400 with 1 Axes>"
      ]
     },
     "metadata": {},
     "output_type": "display_data"
    }
   ],
   "source": [
    "# Orders per day of the week\n",
    "dow_counts = orders['order_dow'].value_counts().sort_index()\n",
    "\n",
    "plt.figure(figsize=(8,4))\n",
    "sns.barplot(x=dow_counts.index, y=dow_counts.values)\n",
    "plt.title(\"Orders by Day of Week (0=Sunday)\")\n",
    "plt.xlabel(\"Day of Week\")\n",
    "plt.ylabel(\"Number of Orders\")\n",
    "plt.tight_layout()\n",
    "plt.show()\n"
   ]
  },
  {
   "cell_type": "code",
   "execution_count": 38,
   "id": "ec6be81e-9c60-4b92-945a-2cfb4df22ed1",
   "metadata": {},
   "outputs": [
    {
     "data": {
      "image/png": "[encoded data removed]",
      "text/plain": [
       "<Figure size 500x400 with 1 Axes>"
      ]
     },
     "metadata": {},
     "output_type": "display_data"
    }
   ],
   "source": [
    "reorder_counts = order_merged['reordered'].value_counts().sort_index()\n",
    "\n",
    "plt.figure(figsize=(5,4))\n",
    "sns.barplot(x=reorder_counts.index.map({0: 'First-time', 1: 'Reordered'}), y=reorder_counts.values)\n",
    "plt.title(\"Reordered vs First-Time Purchases\")\n",
    "plt.ylabel(\"Number of Products\")\n",
    "plt.tight_layout()\n",
    "plt.show()\n"
   ]
  },
  {
   "cell_type": "markdown",
   "id": "0b618c88-824d-4b36-a4f1-c36e22ab5a18",
   "metadata": {},
   "source": [
    "Which Departments Have the Most Orders?"
   ]
  },
  {
   "cell_type": "code",
   "execution_count": 39,
   "id": "df7cdca4-ecd4-4abb-ad22-5c6d9f029739",
   "metadata": {},
   "outputs": [
    {
     "data": {
      "image/png": "[encoded data removed]",
      "text/plain": [
       "<Figure size 1000x600 with 1 Axes>"
      ]
     },
     "metadata": {},
     "output_type": "display_data"
    }
   ],
   "source": [
    "# Merge order_merged with product metadata to get department\n",
    "order_with_dept = order_merged.merge(products_full[['product_id', 'department']], on='product_id')\n",
    "\n",
    "# Count by department\n",
    "dept_counts = order_with_dept['department'].value_counts().sort_values(ascending=False)\n",
    "\n",
    "# Plot\n",
    "plt.figure(figsize=(10,6))\n",
    "sns.barplot(y=dept_counts.index, x=dept_counts.values)\n",
    "plt.title(\"Total Orders by Department\")\n",
    "plt.xlabel(\"Number of Orders\")\n",
    "plt.ylabel(\"Department\")\n",
    "plt.tight_layout()\n",
    "plt.show()\n"
   ]
  },
  {
   "cell_type": "code",
   "execution_count": null,
   "id": "3d4fa41e-066f-4e31-bd47-3b6ba6a5ca80",
   "metadata": {},
   "outputs": [],
   "source": []
  },
  {
   "cell_type": "code",
   "execution_count": null,
   "id": "c6e5b141-618e-4629-a791-c2c917b368a0",
   "metadata": {},
   "outputs": [],
   "source": []
  }
 ],
 "metadata": {
  "kernelspec": {
   "display_name": "Python 3 (ipykernel)",
   "language": "python",
   "name": "python3"
  },
  "language_info": {
   "codemirror_mode": {
    "name": "ipython",
    "version": 3
   },
   "file_extension": ".py",
   "mimetype": "text/x-python",
   "name": "python",
   "nbconvert_exporter": "python",
   "pygments_lexer": "ipython3",
   "version": "3.11.9"
  }
 },
 "nbformat": 4,
 "nbformat_minor": 5
}
